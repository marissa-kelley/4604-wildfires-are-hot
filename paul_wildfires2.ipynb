{
 "cells": [
  {
   "cell_type": "code",
   "execution_count": 12,
   "metadata": {},
   "outputs": [
    {
     "data": {
      "text/plain": [
       "RendererRegistry.enable('notebook')"
      ]
     },
     "execution_count": 12,
     "metadata": {},
     "output_type": "execute_result"
    }
   ],
   "source": [
    "import sqlite3\n",
    "import pandas as pd\n",
    "import seaborn as sb\n",
    "import altair as alt\n",
    "import numpy as np\n",
    "from multiprocessing import Pool\n",
    "alt.renderers.enable('notebook')"
   ]
  },
  {
   "cell_type": "markdown",
   "metadata": {},
   "source": [
    "# Getting the data and filtering it"
   ]
  },
  {
   "cell_type": "code",
   "execution_count": 4,
   "metadata": {},
   "outputs": [],
   "source": [
    "data = sqlite3.connect(\"/Users/jacobpaul/Downloads/wildfires.sqlite\")\n",
    "c = data.cursor()"
   ]
  },
  {
   "cell_type": "code",
   "execution_count": 5,
   "metadata": {},
   "outputs": [],
   "source": [
    "df = pd.read_sql('''SELECT * FROM Fires WHERE FIRE_SIZE_CLASS = \\'G\\' OR FIRE_SIZE_CLASS = \\'F\\' OR FIRE_SIZE_CLASS = \\'E\\' OR FIRE_SIZE_CLASS = \\'D\\'''',data)"
   ]
  },
  {
   "cell_type": "code",
   "execution_count": 163,
   "metadata": {
    "scrolled": true
   },
   "outputs": [
    {
     "name": "stdout",
     "output_type": "stream",
     "text": [
      "SOURCE_SYSTEM_TYPE\n",
      "SOURCE_SYSTEM\n",
      "NWCG_REPORTING_AGENCY\n",
      "FIRE_YEAR\n",
      "DISCOVERY_DOY\n",
      "STAT_CAUSE_DESCR\n",
      "FIRE_SIZE\n",
      "FIRE_SIZE_CLASS\n",
      "LATITUDE\n",
      "LONGITUDE\n",
      "OWNER_DESCR\n",
      "STATE\n"
     ]
    }
   ],
   "source": [
    "for col in df.columns:\n",
    "    print(col)"
   ]
  },
  {
   "cell_type": "code",
   "execution_count": 7,
   "metadata": {},
   "outputs": [],
   "source": [
    "df.to_csv(\"filtered_groups_defg.csv\")"
   ]
  },
  {
   "cell_type": "markdown",
   "metadata": {},
   "source": [
    "# Getting Started"
   ]
  },
  {
   "cell_type": "code",
   "execution_count": 140,
   "metadata": {},
   "outputs": [],
   "source": [
    "from sklearn.cross_validation import train_test_split\n",
    "from sklearn.ensemble import RandomForestClassifier\n",
    "from sklearn.neural_network import MLPClassifier\n",
    "from sklearn.metrics import accuracy_score\n",
    "from sklearn.metrics import confusion_matrix\n",
    "from sklearn.preprocessing import StandardScaler\n",
    "from sklearn.metrics import precision_score\n",
    "from multiprocessing import Pool\n",
    "from sklearn.feature_extraction.text import CountVectorizer"
   ]
  },
  {
   "cell_type": "code",
   "execution_count": 37,
   "metadata": {},
   "outputs": [
    {
     "name": "stderr",
     "output_type": "stream",
     "text": [
      "/Users/jacobpaul/anaconda3/lib/python3.6/site-packages/IPython/core/interactiveshell.py:3020: DtypeWarning: Columns (11) have mixed types. Specify dtype option on import or set low_memory=False.\n",
      "  interactivity=interactivity, compiler=compiler, result=result)\n"
     ]
    }
   ],
   "source": [
    "df = pd.read_csv(\"filtered_groups_defg.csv\")"
   ]
  },
  {
   "cell_type": "code",
   "execution_count": 38,
   "metadata": {},
   "outputs": [
    {
     "data": {
      "text/plain": [
       "40"
      ]
     },
     "execution_count": 38,
     "metadata": {},
     "output_type": "execute_result"
    }
   ],
   "source": [
    "#Original columns\n",
    "len(df.columns)"
   ]
  },
  {
   "cell_type": "code",
   "execution_count": 39,
   "metadata": {},
   "outputs": [],
   "source": [
    "#dropping columns that will have little to no effect on model performance or contain NaN values\n",
    "drop_cols = ['Unnamed: 0','OBJECTID', 'FOD_ID', 'FPA_ID','NWCG_REPORTING_UNIT_ID','NWCG_REPORTING_UNIT_NAME','SOURCE_REPORTING_UNIT','SOURCE_REPORTING_UNIT_NAME','LOCAL_FIRE_REPORT_ID','LOCAL_INCIDENT_ID','FIRE_CODE','FIRE_NAME','ICS_209_INCIDENT_NUMBER', 'ICS_209_NAME', 'MTBS_ID', 'MTBS_FIRE_NAME','COMPLEX_NAME','DISCOVERY_DATE','STAT_CAUSE_CODE','FIPS_CODE', 'FIPS_NAME', 'Shape','OWNER_CODE','DISCOVERY_TIME','COUNTY','CONT_DATE','CONT_DOY','CONT_TIME','SOURCE_SYSTEM','SOURCE_SYSTEM_TYPE']\n",
    "df = df.drop(columns=drop_cols)"
   ]
  },
  {
   "cell_type": "markdown",
   "metadata": {},
   "source": [
    "## Splitting into testing and training data"
   ]
  },
  {
   "cell_type": "code",
   "execution_count": 136,
   "metadata": {},
   "outputs": [],
   "source": [
    "label_names = sorted(df['STAT_CAUSE_DESCR'].unique())\n",
    "df_dummies_X = df.drop(columns=['STAT_CAUSE_DESCR'])\n",
    "df_dummies_X = pd.get_dummies(df_dummies_X)\n",
    "X = df_dummies_X\n",
    "Y = df['STAT_CAUSE_DESCR']\n",
    "\n",
    "X_train, X_test, Y_train, Y_test = train_test_split(X,Y, test_size=0.4, random_state=1, stratify=Y)"
   ]
  },
  {
   "cell_type": "code",
   "execution_count": 137,
   "metadata": {},
   "outputs": [
    {
     "name": "stdout",
     "output_type": "stream",
     "text": [
      "0.6247778436018957\n"
     ]
    }
   ],
   "source": [
    "classifier = RandomForestClassifier(n_estimators=200, max_depth=100, min_samples_leaf=5, random_state=123)\n",
    "\n",
    "classifier.fit(X_train, Y_train)\n",
    "training_accuracy = accuracy_score(Y_train, classifier.predict(X_train))\n",
    "pred = classifier.predict(X_test)\n",
    "test_accuracy = accuracy_score(Y_test, pred)\n",
    "\n",
    "print(test_accuracy)"
   ]
  },
  {
   "cell_type": "markdown",
   "metadata": {},
   "source": [
    "## Feature weights"
   ]
  },
  {
   "cell_type": "code",
   "execution_count": 156,
   "metadata": {},
   "outputs": [
    {
     "data": {
      "text/plain": [
       "[('SOURCE_SYSTEM_ST-WAWAS', 0.0),\n",
       " ('SOURCE_SYSTEM_ST-WIWIS', 0.0),\n",
       " ('NWCG_REPORTING_AGENCY_BOR', 0.0),\n",
       " ('NWCG_REPORTING_AGENCY_DOE', 0.0),\n",
       " ('STATE_CT', 0.0),\n",
       " ('STATE_DE', 0.0),\n",
       " ('STATE_MA', 0.0),\n",
       " ('STATE_NH', 0.0),\n",
       " ('STATE_VT', 0.0),\n",
       " ('STATE_IL', 2.4713356460780828e-06),\n",
       " ('SOURCE_SYSTEM_ST-NCNCS', 2.4823646905113163e-06),\n",
       " ('STATE_OH', 7.137876589655193e-06),\n",
       " ('STATE_NY', 7.203213567155459e-06),\n",
       " ('OWNER_DESCR_BOR', 9.987976942260609e-06),\n",
       " ('STATE_NJ', 1.5684470025139945e-05),\n",
       " ('STATE_PR', 2.524890165430906e-05),\n",
       " ('STATE_WI', 2.905148451084067e-05),\n",
       " ('SOURCE_SYSTEM_ST-MIMIS', 3.184751703463667e-05),\n",
       " ('SOURCE_SYSTEM_FA-NFIRS', 3.4875878004624355e-05),\n",
       " ('NWCG_REPORTING_AGENCY_IA', 4.665010567230248e-05),\n",
       " ('OWNER_DESCR_MUNICIPAL/LOCAL', 5.052552555796017e-05),\n",
       " ('STATE_PA', 5.608631307181316e-05),\n",
       " ('OWNER_DESCR_UNDEFINED FEDERAL', 7.233766253620626e-05),\n",
       " ('STATE_ME', 7.605451584482003e-05),\n",
       " ('STATE_HI', 8.395226036396881e-05),\n",
       " ('SOURCE_SYSTEM_ST-MEMES', 9.066936173651204e-05),\n",
       " ('SOURCE_SYSTEM_ST-VAVAS', 0.0001155704963770723),\n",
       " ('SOURCE_SYSTEM_ST-TNTNS', 0.00012488444752877792),\n",
       " ('NWCG_REPORTING_AGENCY_DOD', 0.00013345644097084554),\n",
       " ('SOURCE_SYSTEM_ST-CACDF', 0.00016896018135544266),\n",
       " ('SOURCE_SYSTEM_ST-GAGAS', 0.00020014031884001073),\n",
       " ('STATE_MI', 0.00020842249077563445),\n",
       " ('STATE_IN', 0.0002495559591881672),\n",
       " ('SOURCE_SYSTEM_ST-NMNMS', 0.00030878004880299917),\n",
       " ('STATE_MD', 0.0003175518275023218),\n",
       " ('OWNER_DESCR_TRIBAL', 0.0003843699620866932),\n",
       " ('STATE_VA', 0.00043073875013995586),\n",
       " ('SOURCE_SYSTEM_IA-AKACC', 0.0005124394765934123),\n",
       " ('SOURCE_SYSTEM_ST-ORORS', 0.0006420073650040832),\n",
       " ('STATE_NC', 0.0006631988881853357),\n",
       " ('STATE_AR', 0.0007019658414437904),\n",
       " ('OWNER_DESCR_COUNTY', 0.0008153579719218711),\n",
       " ('STATE_LA', 0.0008192100495790045),\n",
       " ('STATE_ND', 0.0008695986323407832),\n",
       " ('SOURCE_SYSTEM_ST-AZAZS', 0.0009086987719447963),\n",
       " ('STATE_CO', 0.0009762302079625065),\n",
       " ('STATE_IA', 0.0009929784460829961),\n",
       " ('STATE_MN', 0.0010622383154008223),\n",
       " ('NWCG_REPORTING_AGENCY_TRIBE', 0.001128446392939438),\n",
       " ('STATE_SD', 0.0012096280491369791),\n",
       " ('STATE_GA', 0.0012468481469434048),\n",
       " ('STATE_NE', 0.0012939473024557336),\n",
       " ('OWNER_DESCR_OTHER FEDERAL', 0.0013441532598889804),\n",
       " ('SOURCE_SYSTEM_ST-MTMTS', 0.0014994856631909282),\n",
       " ('STATE_TN', 0.0015577179590883672),\n",
       " ('STATE_WY', 0.0016170851675573878),\n",
       " ('STATE_KS', 0.0016242456694697044),\n",
       " ('STATE_OR', 0.001668596891910972),\n",
       " ('OWNER_DESCR_NPS', 0.0018540754366142451),\n",
       " ('OWNER_DESCR_FWS', 0.0018554718087585166),\n",
       " ('STATE_NV', 0.0020835391417945584),\n",
       " ('NWCG_REPORTING_AGENCY_NPS', 0.002088413602501386),\n",
       " ('STATE_MT', 0.0022461058024868604),\n",
       " ('STATE_WA', 0.002271280652369748),\n",
       " ('STATE_SC', 0.002363806064261727),\n",
       " ('STATE_UT', 0.002368363567208872),\n",
       " ('STATE_MO', 0.002429439221486116),\n",
       " ('SOURCE_SYSTEM_FWS-FMIS', 0.0026263323941116867),\n",
       " ('STATE_AZ', 0.0026493167982569433),\n",
       " ('SOURCE_SYSTEM_ST-ALALS', 0.0027120494564695247),\n",
       " ('NWCG_REPORTING_AGENCY_FWS', 0.002866621169254339),\n",
       " ('FIRE_SIZE_CLASS_G', 0.0031511852569911314),\n",
       " ('STATE_AL', 0.003335758374280588),\n",
       " ('FIRE_SIZE_CLASS_F', 0.0033963707998807395),\n",
       " ('SOURCE_SYSTEM_ST-TXTXS', 0.003405912411214475),\n",
       " ('SOURCE_SYSTEM_ST-UTUTS', 0.0036533779169722388),\n",
       " ('STATE_ID', 0.00402347336535096),\n",
       " ('OWNER_DESCR_STATE', 0.004107816338311765),\n",
       " ('STATE_NM', 0.004386681340139942),\n",
       " ('SOURCE_SYSTEM_ST-SCSCS', 0.004415658979163482),\n",
       " ('STATE_TX', 0.004418953108332152),\n",
       " ('STATE_MS', 0.004616107874607409),\n",
       " ('FIRE_SIZE_CLASS_E', 0.004637162322204638),\n",
       " ('STATE_FL', 0.004785103641245868),\n",
       " ('OWNER_DESCR_BIA', 0.004817995091801167),\n",
       " ('OWNER_DESCR_STATE OR PRIVATE', 0.0048661296407398495),\n",
       " ('SOURCE_SYSTEM_ST-MSMSS', 0.004951955241392833),\n",
       " ('STATE_AK', 0.005764808352594202),\n",
       " ('SOURCE_SYSTEM_FS-FIRESTAT', 0.006759046203453363),\n",
       " ('FIRE_SIZE_CLASS_D', 0.00805298835351193),\n",
       " ('NWCG_REPORTING_AGENCY_BIA', 0.008089503969098022),\n",
       " ('NWCG_REPORTING_AGENCY_FS', 0.008494380037043914),\n",
       " ('STATE_WV', 0.009259058850155188),\n",
       " ('SOURCE_SYSTEM_DOI-WFMI', 0.009337253739204939),\n",
       " ('OWNER_DESCR_USFS', 0.013049282431895723),\n",
       " ('STATE_CA', 0.013839961698305816),\n",
       " ('OWNER_DESCR_BLM', 0.014261867236175074),\n",
       " ('OWNER_DESCR_PRIVATE', 0.01427745216518941),\n",
       " ('STATE_KY', 0.015899407489500122),\n",
       " ('NWCG_REPORTING_AGENCY_BLM', 0.016036250640952918),\n",
       " ('SOURCE_SYSTEM_ST-OKOKS', 0.01925993248780724),\n",
       " ('SOURCE_SYSTEM_ST-NASF', 0.019358189464391936),\n",
       " ('STATE_OK', 0.021014798579863273),\n",
       " ('OWNER_DESCR_MISSING/NOT SPECIFIED', 0.02524736648162797),\n",
       " ('NWCG_REPORTING_AGENCY_ST/C&L', 0.025954878137000897),\n",
       " ('FIRE_SIZE', 0.031129672488968835),\n",
       " ('FIRE_YEAR', 0.03943648297994887),\n",
       " ('SOURCE_SYSTEM_IA-ICS209', 0.048506515396013423),\n",
       " ('BURN_TIME', 0.06613713184692531),\n",
       " ('LATITUDE', 0.07919603197191004),\n",
       " ('CONT_DOY', 0.1088459027805453),\n",
       " ('DISCOVERY_DOY', 0.11059546358666848),\n",
       " ('LONGITUDE', 0.13837313965698608)]"
      ]
     },
     "execution_count": 156,
     "metadata": {},
     "output_type": "execute_result"
    }
   ],
   "source": [
    "import operator\n",
    "feature_names = list(df_dummies_X.columns)\n",
    "\n",
    "weights = {a:classifier.feature_importances_[i] for i,a in enumerate(feature_names)}\n",
    "sorted_d = sorted(weights.items(), key=operator.itemgetter(1))\n",
    "sorted_d"
   ]
  },
  {
   "cell_type": "code",
   "execution_count": 148,
   "metadata": {},
   "outputs": [
    {
     "data": {
      "text/plain": [
       "113"
      ]
     },
     "execution_count": 148,
     "metadata": {},
     "output_type": "execute_result"
    }
   ],
   "source": [
    "len(df_dummies_X.columns)"
   ]
  },
  {
   "cell_type": "markdown",
   "metadata": {},
   "source": [
    "## Hyperparameter selection"
   ]
  },
  {
   "cell_type": "code",
   "execution_count": 138,
   "metadata": {},
   "outputs": [],
   "source": [
    "max_depth_values = [3, 8, 14, 100]\n",
    "min_samples_leaf_values = [1, 5, 10, 15, 50]\n",
    "\n",
    "combined = []\n",
    "for i in max_depth_values:\n",
    "    for j in min_samples_leaf_values:\n",
    "        combined.append((i,j))\n",
    "\n",
    "def treeLearn(md, msl):\n",
    "    classifier = RandomForestClassifier(max_depth=md, min_samples_leaf=msl, random_state=123)\n",
    "    classifier.fit(X_train, Y_train)\n",
    "    training_accuracy = accuracy_score(Y_train, classifier.predict(X_train))\n",
    "    test_accuracy = accuracy_score(Y_test, classifier.predict(X_test))\n",
    "    return[md, msl,training_accuracy, test_accuracy]\n",
    "\n",
    "#Multiprocessing because it takes a long time\n",
    "if __name__ == '__main__':\n",
    "    p = Pool(8)\n",
    "    p.daemon = True\n",
    "    tree_test_accuracy = p.starmap(treeLearn,combined)\n",
    "    accuracy_df = pd.DataFrame(tree_test_accuracy, columns=['max_depth','max_samples_leaf', 'training_accuracy', 'test_accuracy'])\n",
    "    p.close()   "
   ]
  },
  {
   "cell_type": "code",
   "execution_count": 21,
   "metadata": {},
   "outputs": [
    {
     "data": {
      "text/html": [
       "<div>\n",
       "<style scoped>\n",
       "    .dataframe tbody tr th:only-of-type {\n",
       "        vertical-align: middle;\n",
       "    }\n",
       "\n",
       "    .dataframe tbody tr th {\n",
       "        vertical-align: top;\n",
       "    }\n",
       "\n",
       "    .dataframe thead th {\n",
       "        text-align: right;\n",
       "    }\n",
       "</style>\n",
       "<table border=\"1\" class=\"dataframe\">\n",
       "  <thead>\n",
       "    <tr style=\"text-align: right;\">\n",
       "      <th></th>\n",
       "      <th>max_depth</th>\n",
       "      <th>max_samples_leaf</th>\n",
       "      <th>training_accuracy</th>\n",
       "      <th>test_accuracy</th>\n",
       "    </tr>\n",
       "  </thead>\n",
       "  <tbody>\n",
       "    <tr>\n",
       "      <th>0</th>\n",
       "      <td>3</td>\n",
       "      <td>1</td>\n",
       "      <td>0.409459</td>\n",
       "      <td>0.407570</td>\n",
       "    </tr>\n",
       "    <tr>\n",
       "      <th>1</th>\n",
       "      <td>3</td>\n",
       "      <td>5</td>\n",
       "      <td>0.409459</td>\n",
       "      <td>0.407570</td>\n",
       "    </tr>\n",
       "    <tr>\n",
       "      <th>2</th>\n",
       "      <td>3</td>\n",
       "      <td>10</td>\n",
       "      <td>0.409459</td>\n",
       "      <td>0.407570</td>\n",
       "    </tr>\n",
       "    <tr>\n",
       "      <th>3</th>\n",
       "      <td>3</td>\n",
       "      <td>15</td>\n",
       "      <td>0.409459</td>\n",
       "      <td>0.407524</td>\n",
       "    </tr>\n",
       "    <tr>\n",
       "      <th>4</th>\n",
       "      <td>3</td>\n",
       "      <td>50</td>\n",
       "      <td>0.410599</td>\n",
       "      <td>0.407940</td>\n",
       "    </tr>\n",
       "    <tr>\n",
       "      <th>5</th>\n",
       "      <td>8</td>\n",
       "      <td>1</td>\n",
       "      <td>0.535295</td>\n",
       "      <td>0.528468</td>\n",
       "    </tr>\n",
       "    <tr>\n",
       "      <th>6</th>\n",
       "      <td>8</td>\n",
       "      <td>5</td>\n",
       "      <td>0.532399</td>\n",
       "      <td>0.527544</td>\n",
       "    </tr>\n",
       "    <tr>\n",
       "      <th>7</th>\n",
       "      <td>8</td>\n",
       "      <td>10</td>\n",
       "      <td>0.531937</td>\n",
       "      <td>0.525326</td>\n",
       "    </tr>\n",
       "    <tr>\n",
       "      <th>8</th>\n",
       "      <td>8</td>\n",
       "      <td>15</td>\n",
       "      <td>0.525558</td>\n",
       "      <td>0.520381</td>\n",
       "    </tr>\n",
       "    <tr>\n",
       "      <th>9</th>\n",
       "      <td>8</td>\n",
       "      <td>50</td>\n",
       "      <td>0.519797</td>\n",
       "      <td>0.515852</td>\n",
       "    </tr>\n",
       "    <tr>\n",
       "      <th>10</th>\n",
       "      <td>14</td>\n",
       "      <td>1</td>\n",
       "      <td>0.700662</td>\n",
       "      <td>0.579166</td>\n",
       "    </tr>\n",
       "    <tr>\n",
       "      <th>11</th>\n",
       "      <td>14</td>\n",
       "      <td>5</td>\n",
       "      <td>0.613588</td>\n",
       "      <td>0.576255</td>\n",
       "    </tr>\n",
       "    <tr>\n",
       "      <th>12</th>\n",
       "      <td>14</td>\n",
       "      <td>10</td>\n",
       "      <td>0.584810</td>\n",
       "      <td>0.567659</td>\n",
       "    </tr>\n",
       "    <tr>\n",
       "      <th>13</th>\n",
       "      <td>14</td>\n",
       "      <td>15</td>\n",
       "      <td>0.574365</td>\n",
       "      <td>0.560357</td>\n",
       "    </tr>\n",
       "    <tr>\n",
       "      <th>14</th>\n",
       "      <td>14</td>\n",
       "      <td>50</td>\n",
       "      <td>0.546634</td>\n",
       "      <td>0.543904</td>\n",
       "    </tr>\n",
       "    <tr>\n",
       "      <th>15</th>\n",
       "      <td>100</td>\n",
       "      <td>1</td>\n",
       "      <td>0.983916</td>\n",
       "      <td>0.579998</td>\n",
       "    </tr>\n",
       "    <tr>\n",
       "      <th>16</th>\n",
       "      <td>100</td>\n",
       "      <td>5</td>\n",
       "      <td>0.660607</td>\n",
       "      <td>0.589149</td>\n",
       "    </tr>\n",
       "    <tr>\n",
       "      <th>17</th>\n",
       "      <td>100</td>\n",
       "      <td>10</td>\n",
       "      <td>0.613835</td>\n",
       "      <td>0.580414</td>\n",
       "    </tr>\n",
       "    <tr>\n",
       "      <th>18</th>\n",
       "      <td>100</td>\n",
       "      <td>15</td>\n",
       "      <td>0.592975</td>\n",
       "      <td>0.572558</td>\n",
       "    </tr>\n",
       "    <tr>\n",
       "      <th>19</th>\n",
       "      <td>100</td>\n",
       "      <td>50</td>\n",
       "      <td>0.546079</td>\n",
       "      <td>0.541316</td>\n",
       "    </tr>\n",
       "  </tbody>\n",
       "</table>\n",
       "</div>"
      ],
      "text/plain": [
       "    max_depth  max_samples_leaf  training_accuracy  test_accuracy\n",
       "0           3                 1           0.409459       0.407570\n",
       "1           3                 5           0.409459       0.407570\n",
       "2           3                10           0.409459       0.407570\n",
       "3           3                15           0.409459       0.407524\n",
       "4           3                50           0.410599       0.407940\n",
       "5           8                 1           0.535295       0.528468\n",
       "6           8                 5           0.532399       0.527544\n",
       "7           8                10           0.531937       0.525326\n",
       "8           8                15           0.525558       0.520381\n",
       "9           8                50           0.519797       0.515852\n",
       "10         14                 1           0.700662       0.579166\n",
       "11         14                 5           0.613588       0.576255\n",
       "12         14                10           0.584810       0.567659\n",
       "13         14                15           0.574365       0.560357\n",
       "14         14                50           0.546634       0.543904\n",
       "15        100                 1           0.983916       0.579998\n",
       "16        100                 5           0.660607       0.589149\n",
       "17        100                10           0.613835       0.580414\n",
       "18        100                15           0.592975       0.572558\n",
       "19        100                50           0.546079       0.541316"
      ]
     },
     "execution_count": 21,
     "metadata": {},
     "output_type": "execute_result"
    }
   ],
   "source": [
    "accuracy_df"
   ]
  },
  {
   "cell_type": "code",
   "execution_count": 157,
   "metadata": {},
   "outputs": [
    {
     "data": {
      "text/plain": [
       "<matplotlib.axes._subplots.AxesSubplot at 0x133add780>"
      ]
     },
     "execution_count": 157,
     "metadata": {},
     "output_type": "execute_result"
    },
    {
     "data": {
      "image/png": "[encoded data removed]",
      "text/plain": [
       "<Figure size 432x288 with 1 Axes>"
      ]
     },
     "metadata": {
      "needs_background": "light"
     },
     "output_type": "display_data"
    }
   ],
   "source": [
    "sb.lineplot(data=accuracy_df, x='max_samples_leaf',y='test_accuracy')"
   ]
  },
  {
   "cell_type": "markdown",
   "metadata": {},
   "source": [
    "## Confusion matrix"
   ]
  },
  {
   "cell_type": "code",
   "execution_count": 44,
   "metadata": {},
   "outputs": [
    {
     "data": {
      "image/png": "[encoded data removed]",
      "text/plain": [
       "<Figure size 576x576 with 1 Axes>"
      ]
     },
     "metadata": {
      "needs_background": "light"
     },
     "output_type": "display_data"
    }
   ],
   "source": [
    "%matplotlib inline\n",
    "import seaborn as sb\n",
    "import matplotlib.pyplot as plt\n",
    "import altair as alt\n",
    "\n",
    "matrix = confusion_matrix(Y_test, pred)\n",
    "plt.figure(figsize=(8,8))\n",
    "sb.heatmap(matrix,square=True,annot=True, fmt='d', cbar=False, cmap='Blues',\n",
    "          xticklabels=label_names,yticklabels=label_names)\n",
    "plt.ylabel('True label')\n",
    "plt.xlabel('Predicted label')\n",
    "plt.tight_layout()\n",
    "plt.savefig(\"randomforestconfusionmatrix.png\", dpi=170)"
   ]
  },
  {
   "cell_type": "code",
   "execution_count": null,
   "metadata": {},
   "outputs": [],
   "source": [
    "precision_score(Y_test,pred,average='macro')"
   ]
  },
  {
   "cell_type": "code",
   "execution_count": 43,
   "metadata": {},
   "outputs": [
    {
     "data": {
      "text/plain": [
       "['Arson',\n",
       " 'Campfire',\n",
       " 'Children',\n",
       " 'Debris Burning',\n",
       " 'Equipment Use',\n",
       " 'Fireworks',\n",
       " 'Lightning',\n",
       " 'Miscellaneous',\n",
       " 'Missing/Undefined',\n",
       " 'Powerline',\n",
       " 'Railroad',\n",
       " 'Smoking',\n",
       " 'Structure']"
      ]
     },
     "execution_count": 43,
     "metadata": {},
     "output_type": "execute_result"
    }
   ],
   "source": [
    "label_names"
   ]
  },
  {
   "cell_type": "code",
   "execution_count": 74,
   "metadata": {},
   "outputs": [
    {
     "ename": "AttributeError",
     "evalue": "'RandomForestClassifier' object has no attribute 'weight_vector'",
     "output_type": "error",
     "traceback": [
      "\u001b[0;31m---------------------------------------------------------------------------\u001b[0m",
      "\u001b[0;31mAttributeError\u001b[0m                            Traceback (most recent call last)",
      "\u001b[0;32m<ipython-input-74-66b5388fa4c0>\u001b[0m in \u001b[0;36m<module>\u001b[0;34m\u001b[0m\n\u001b[0;32m----> 1\u001b[0;31m \u001b[0mclassifier\u001b[0m\u001b[0;34m.\u001b[0m\u001b[0mweight_vector\u001b[0m\u001b[0;34m\u001b[0m\u001b[0m\n\u001b[0m",
      "\u001b[0;31mAttributeError\u001b[0m: 'RandomForestClassifier' object has no attribute 'weight_vector'"
     ]
    }
   ],
   "source": [
    "classifier.weight_vector"
   ]
  },
  {
   "cell_type": "markdown",
   "metadata": {},
   "source": [
    "# Feature Selection"
   ]
  },
  {
   "cell_type": "code",
   "execution_count": 129,
   "metadata": {},
   "outputs": [
    {
     "name": "stderr",
     "output_type": "stream",
     "text": [
      "/Users/jacobpaul/anaconda3/lib/python3.6/site-packages/IPython/core/interactiveshell.py:3020: DtypeWarning: Columns (11) have mixed types. Specify dtype option on import or set low_memory=False.\n",
      "  interactivity=interactivity, compiler=compiler, result=result)\n"
     ]
    }
   ],
   "source": [
    "df = pd.read_csv(\"filtered_groups_defg.csv\")"
   ]
  },
  {
   "cell_type": "code",
   "execution_count": 130,
   "metadata": {},
   "outputs": [],
   "source": [
    "#dropping columns that will have little to no effect on model performance or contain NaN values\n",
    "drop_cols = ['Unnamed: 0','OBJECTID', 'FOD_ID', 'FPA_ID','NWCG_REPORTING_UNIT_ID','NWCG_REPORTING_UNIT_NAME','SOURCE_REPORTING_UNIT','SOURCE_REPORTING_UNIT_NAME','LOCAL_FIRE_REPORT_ID','LOCAL_INCIDENT_ID','FIRE_CODE','FIRE_NAME','ICS_209_INCIDENT_NUMBER', 'ICS_209_NAME', 'MTBS_ID', 'MTBS_FIRE_NAME','DISCOVERY_DATE','STAT_CAUSE_CODE','FIPS_CODE', 'FIPS_NAME', 'Shape','OWNER_CODE','DISCOVERY_TIME','COUNTY','CONT_DATE','CONT_TIME','SOURCE_SYSTEM_TYPE','COMPLEX_NAME']\n",
    "df = df.drop(columns=drop_cols)\n",
    "df = df.dropna()\n"
   ]
  },
  {
   "cell_type": "code",
   "execution_count": 131,
   "metadata": {},
   "outputs": [],
   "source": [
    "from sklearn.preprocessing import normalize\n",
    "from sklearn.linear_model import Perceptron\n",
    "df['BURN_TIME'] = df['CONT_DOY'] - df[\"DISCOVERY_DOY\"]\n",
    "\n",
    "label_names = sorted(df['STAT_CAUSE_DESCR'].unique())\n",
    "df_dummies_X = df.drop(columns=['STAT_CAUSE_DESCR'])\n",
    "df_dummies_X = pd.get_dummies(df_dummies_X)\n",
    "X = df_dummies_X\n",
    "Y = df['STAT_CAUSE_DESCR']\n",
    "\n",
    "X_train, X_test, Y_train, Y_test = train_test_split(X,Y, test_size=0.4, random_state=1, stratify=Y)"
   ]
  },
  {
   "cell_type": "code",
   "execution_count": 132,
   "metadata": {},
   "outputs": [
    {
     "name": "stderr",
     "output_type": "stream",
     "text": [
      "/Users/jacobpaul/anaconda3/lib/python3.6/site-packages/sklearn/linear_model/stochastic_gradient.py:73: DeprecationWarning: n_iter parameter is deprecated in 0.19 and will be removed in 0.21. Use max_iter and tol instead.\n",
      "  DeprecationWarning)\n"
     ]
    },
    {
     "name": "stdout",
     "output_type": "stream",
     "text": [
      "0.3540432464454976\n"
     ]
    }
   ],
   "source": []
  },
  {
   "cell_type": "code",
   "execution_count": 133,
   "metadata": {},
   "outputs": [
    {
     "data": {
      "text/plain": [
       "Index(['SOURCE_SYSTEM', 'NWCG_REPORTING_AGENCY', 'FIRE_YEAR', 'DISCOVERY_DOY',\n",
       "       'STAT_CAUSE_DESCR', 'CONT_DOY', 'FIRE_SIZE', 'FIRE_SIZE_CLASS',\n",
       "       'LATITUDE', 'LONGITUDE', 'OWNER_DESCR', 'STATE', 'BURN_TIME'],\n",
       "      dtype='object')"
      ]
     },
     "execution_count": 133,
     "metadata": {},
     "output_type": "execute_result"
    }
   ],
   "source": [
    "df.columns"
   ]
  },
  {
   "cell_type": "code",
   "execution_count": 134,
   "metadata": {},
   "outputs": [
    {
     "data": {
      "text/plain": [
       "33759"
      ]
     },
     "execution_count": 134,
     "metadata": {},
     "output_type": "execute_result"
    }
   ],
   "source": [
    "len(df)"
   ]
  },
  {
   "cell_type": "code",
   "execution_count": 135,
   "metadata": {},
   "outputs": [
    {
     "data": {
      "text/plain": [
       "<matplotlib.axes._subplots.AxesSubplot at 0x11d8b7e80>"
      ]
     },
     "execution_count": 135,
     "metadata": {},
     "output_type": "execute_result"
    },
    {
     "data": {
      "image/png": "[encoded data removed]",
      "text/plain": [
       "<Figure size 432x288 with 1 Axes>"
      ]
     },
     "metadata": {
      "needs_background": "light"
     },
     "output_type": "display_data"
    }
   ],
   "source": [
    "sb.distplot(df['FIRE_SIZE'])"
   ]
  },
  {
   "cell_type": "code",
   "execution_count": null,
   "metadata": {},
   "outputs": [],
   "source": [
    "classifier"
   ]
  }
 ],
 "metadata": {
  "kernelspec": {
   "display_name": "Python 3",
   "language": "python",
   "name": "python3"
  },
  "language_info": {
   "codemirror_mode": {
    "name": "ipython",
    "version": 3
   },
   "file_extension": ".py",
   "mimetype": "text/x-python",
   "name": "python",
   "nbconvert_exporter": "python",
   "pygments_lexer": "ipython3",
   "version": "3.6.2"
  }
 },
 "nbformat": 4,
 "nbformat_minor": 2
}
